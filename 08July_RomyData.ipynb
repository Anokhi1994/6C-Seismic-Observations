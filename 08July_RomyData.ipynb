{
 "cells": [
  {
   "cell_type": "markdown",
   "metadata": {},
   "source": [
    "GR.FUR\n",
    "BW.FFB1\n",
    "BW.FFB2\n",
    "BW.FFB3\n",
    "BW.GELB\n",
    "BW.TON\n",
    "BW.GRMB\n",
    "BW.ALFT\n",
    "BW.BIB\n"
   ]
  },
  {
   "cell_type": "code",
   "execution_count": 30,
   "metadata": {},
   "outputs": [
    {
     "ename": "FDSNException",
     "evalue": "Bad request. If you think your request was valid please contact the developers.\nDetailed response of server:\n\n\u001f\b\u0000b#]\u0002OAn\u00021\n\u0015m\u0013o!\u0006@> tM\u001bd!.\u0005\u0015-\u001fF\u0019:6\u0014@62\u0004K\n[k#\u0001f\u0010\u001ft(\u0011?\u0007\u0006R&SRS`Ut^^\n\u0017l4y:/DC?,\u0005ow\u001fBPw[1Ift&5B\nQS\u0017AO16\u0018qU\nPg2\n2\u0001\u0000\u0000",
     "output_type": "error",
     "traceback": [
      "\u001b[0;31m---------------------------------------------------------------------------\u001b[0m",
      "\u001b[0;31mFDSNException\u001b[0m                             Traceback (most recent call last)",
      "\u001b[0;32m<ipython-input-30-aa8c96923848>\u001b[0m in \u001b[0;36m<module>\u001b[0;34m\u001b[0m\n\u001b[1;32m      5\u001b[0m \u001b[0mInitiate\u001b[0m \u001b[0;34m=\u001b[0m \u001b[0mUTCDateTime\u001b[0m\u001b[0;34m(\u001b[0m\u001b[0;34m\"2019-07-08T06:55:00.000\"\u001b[0m\u001b[0;34m)\u001b[0m\u001b[0;34m\u001b[0m\u001b[0;34m\u001b[0m\u001b[0m\n\u001b[1;32m      6\u001b[0m \u001b[0mEnded\u001b[0m \u001b[0;34m=\u001b[0m \u001b[0mUTCDateTime\u001b[0m\u001b[0;34m(\u001b[0m\u001b[0;34m\"2019-07-08T06:55:00.000\"\u001b[0m\u001b[0;34m)\u001b[0m\u001b[0;34m\u001b[0m\u001b[0;34m\u001b[0m\u001b[0m\n\u001b[0;32m----> 7\u001b[0;31m \u001b[0mcat\u001b[0m \u001b[0;34m=\u001b[0m \u001b[0mcl\u001b[0m \u001b[0;34m.\u001b[0m\u001b[0mget_events\u001b[0m\u001b[0;34m(\u001b[0m\u001b[0mminmagnitude\u001b[0m\u001b[0;34m=\u001b[0m\u001b[0;36m5\u001b[0m\u001b[0;34m,\u001b[0m\u001b[0mmaxmagnitude\u001b[0m\u001b[0;34m=\u001b[0m\u001b[0;36m8.0\u001b[0m\u001b[0;34m,\u001b[0m\u001b[0mstarttime\u001b[0m\u001b[0;34m=\u001b[0m\u001b[0mInitiate\u001b[0m\u001b[0;34m,\u001b[0m\u001b[0mendtime\u001b[0m\u001b[0;34m=\u001b[0m\u001b[0mEnded\u001b[0m\u001b[0;34m)\u001b[0m\u001b[0;34m\u001b[0m\u001b[0;34m\u001b[0m\u001b[0m\n\u001b[0m\u001b[1;32m      8\u001b[0m \u001b[0;34m\u001b[0m\u001b[0m\n\u001b[1;32m      9\u001b[0m \u001b[0mevent\u001b[0m \u001b[0;34m=\u001b[0m \u001b[0mcat\u001b[0m\u001b[0;34m[\u001b[0m\u001b[0;36m0\u001b[0m\u001b[0;34m]\u001b[0m\u001b[0;34m\u001b[0m\u001b[0;34m\u001b[0m\u001b[0m\n",
      "\u001b[0;32m/import/freenas-m-04-students/anokhi/anaconda3/lib/python3.6/site-packages/obspy/clients/fdsn/client.py\u001b[0m in \u001b[0;36mget_events\u001b[0;34m(self, starttime, endtime, minlatitude, maxlatitude, minlongitude, maxlongitude, latitude, longitude, minradius, maxradius, mindepth, maxdepth, minmagnitude, maxmagnitude, magnitudetype, includeallorigins, includeallmagnitudes, includearrivals, eventid, limit, offset, orderby, catalog, contributor, updatedafter, filename, **kwargs)\u001b[0m\n\u001b[1;32m    512\u001b[0m             \"event\", DEFAULT_PARAMETERS['event'], kwargs)\n\u001b[1;32m    513\u001b[0m \u001b[0;34m\u001b[0m\u001b[0m\n\u001b[0;32m--> 514\u001b[0;31m         \u001b[0mdata_stream\u001b[0m \u001b[0;34m=\u001b[0m \u001b[0mself\u001b[0m\u001b[0;34m.\u001b[0m\u001b[0m_download\u001b[0m\u001b[0;34m(\u001b[0m\u001b[0murl\u001b[0m\u001b[0;34m)\u001b[0m\u001b[0;34m\u001b[0m\u001b[0;34m\u001b[0m\u001b[0m\n\u001b[0m\u001b[1;32m    515\u001b[0m         \u001b[0mdata_stream\u001b[0m\u001b[0;34m.\u001b[0m\u001b[0mseek\u001b[0m\u001b[0;34m(\u001b[0m\u001b[0;36m0\u001b[0m\u001b[0;34m,\u001b[0m \u001b[0;36m0\u001b[0m\u001b[0;34m)\u001b[0m\u001b[0;34m\u001b[0m\u001b[0;34m\u001b[0m\u001b[0m\n\u001b[1;32m    516\u001b[0m         \u001b[0;32mif\u001b[0m \u001b[0mfilename\u001b[0m\u001b[0;34m:\u001b[0m\u001b[0;34m\u001b[0m\u001b[0;34m\u001b[0m\u001b[0m\n",
      "\u001b[0;32m/import/freenas-m-04-students/anokhi/anaconda3/lib/python3.6/site-packages/obspy/clients/fdsn/client.py\u001b[0m in \u001b[0;36m_download\u001b[0;34m(self, url, return_string, data, use_gzip)\u001b[0m\n\u001b[1;32m   1381\u001b[0m             \u001b[0mdebug\u001b[0m\u001b[0;34m=\u001b[0m\u001b[0mself\u001b[0m\u001b[0;34m.\u001b[0m\u001b[0mdebug\u001b[0m\u001b[0;34m,\u001b[0m \u001b[0mreturn_string\u001b[0m\u001b[0;34m=\u001b[0m\u001b[0mreturn_string\u001b[0m\u001b[0;34m,\u001b[0m \u001b[0mdata\u001b[0m\u001b[0;34m=\u001b[0m\u001b[0mdata\u001b[0m\u001b[0;34m,\u001b[0m\u001b[0;34m\u001b[0m\u001b[0;34m\u001b[0m\u001b[0m\n\u001b[1;32m   1382\u001b[0m             timeout=self.timeout, use_gzip=use_gzip)\n\u001b[0;32m-> 1383\u001b[0;31m         \u001b[0mraise_on_error\u001b[0m\u001b[0;34m(\u001b[0m\u001b[0mcode\u001b[0m\u001b[0;34m,\u001b[0m \u001b[0mdata\u001b[0m\u001b[0;34m)\u001b[0m\u001b[0;34m\u001b[0m\u001b[0;34m\u001b[0m\u001b[0m\n\u001b[0m\u001b[1;32m   1384\u001b[0m         \u001b[0;32mreturn\u001b[0m \u001b[0mdata\u001b[0m\u001b[0;34m\u001b[0m\u001b[0;34m\u001b[0m\u001b[0m\n\u001b[1;32m   1385\u001b[0m \u001b[0;34m\u001b[0m\u001b[0m\n",
      "\u001b[0;32m/import/freenas-m-04-students/anokhi/anaconda3/lib/python3.6/site-packages/obspy/clients/fdsn/client.py\u001b[0m in \u001b[0;36mraise_on_error\u001b[0;34m(code, data)\u001b[0m\n\u001b[1;32m   1709\u001b[0m         msg = (\"Bad request. If you think your request was valid \"\n\u001b[1;32m   1710\u001b[0m                \"please contact the developers.\")\n\u001b[0;32m-> 1711\u001b[0;31m         \u001b[0;32mraise\u001b[0m \u001b[0mFDSNException\u001b[0m\u001b[0;34m(\u001b[0m\u001b[0mmsg\u001b[0m\u001b[0;34m,\u001b[0m \u001b[0mserver_info\u001b[0m\u001b[0;34m)\u001b[0m\u001b[0;34m\u001b[0m\u001b[0;34m\u001b[0m\u001b[0m\n\u001b[0m\u001b[1;32m   1712\u001b[0m     \u001b[0;32melif\u001b[0m \u001b[0mcode\u001b[0m \u001b[0;34m==\u001b[0m \u001b[0;36m401\u001b[0m\u001b[0;34m:\u001b[0m\u001b[0;34m\u001b[0m\u001b[0;34m\u001b[0m\u001b[0m\n\u001b[1;32m   1713\u001b[0m         raise FDSNException(\"Unauthorized, authentication required.\",\n",
      "\u001b[0;31mFDSNException\u001b[0m: Bad request. If you think your request was valid please contact the developers.\nDetailed response of server:\n\n\u001f\b\u0000b#]\u0002OAn\u00021\n\u0015m\u0013o!\u0006@> tM\u001bd!.\u0005\u0015-\u001fF\u0019:6\u0014@62\u0004K\n[k#\u0001f\u0010\u001ft(\u0011?\u0007\u0006R&SRS`Ut^^\n\u0017l4y:/DC?,\u0005ow\u001fBPw[1Ift&5B\nQS\u0017AO16\u0018qU\nPg2\n2\u0001\u0000\u0000"
     ]
    }
   ],
   "source": [
    "from obspy import *\n",
    "from obspy.clients.fdsn import Client\n",
    "\n",
    "cl = Client(base_url=\"http://jane\")\n",
    "Initiate = UTCDateTime(\"2019-07-08T06:55:00.000\")\n",
    "Ended = UTCDateTime(\"2019-07-08T06:55:00.000\")\n",
    "cat = cl .get_events(minmagnitude=5,maxmagnitude=8.0,starttime=Initiate,endtime=Ended) \n",
    "\n",
    "event = cat[0]\n",
    "#print(cat)\n",
    "start = event.origins[0].time\n",
    "end = start + 7200\n",
    "\n",
    "\n",
    "st = cl.get_waveforms(\"BW\",\"FFB1\",\"\",\"HHN\",start,end)\n",
    "inv = cl.get_stations(network=\"BW\",station=\"FFB?\",location=\"\",channel=\"HH?\",starttime=start,endtime=start+3600,level=\"reponse\")\n",
    "st.plot()  \n",
    "\n"
   ]
  },
  {
   "cell_type": "code",
   "execution_count": null,
   "metadata": {},
   "outputs": [],
   "source": []
  }
 ],
 "metadata": {
  "hide_input": false,
  "kernelspec": {
   "display_name": "Python 3",
   "language": "python",
   "name": "python3"
  },
  "language_info": {
   "codemirror_mode": {
    "name": "ipython",
    "version": 3
   },
   "file_extension": ".py",
   "mimetype": "text/x-python",
   "name": "python",
   "nbconvert_exporter": "python",
   "pygments_lexer": "ipython3",
   "version": "3.6.8"
  }
 },
 "nbformat": 4,
 "nbformat_minor": 2
}
