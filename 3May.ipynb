{
 "cells": [
  {
   "cell_type": "markdown",
   "metadata": {
    "hide_input": true
   },
   "source": [
    "*Seismogram's from Shihao's input file*"
   ]
  },
  {
   "cell_type": "code",
   "execution_count": 1,
   "metadata": {
    "hide_input": false,
    "scrolled": false
   },
   "outputs": [],
   "source": [
    "#HIDDEN\n",
    "\n",
    "\n",
    "from __future__ import print_function\n",
    "import matplotlib.pyplot as plt\n",
    "import numpy as np\n",
    "\n",
    "import obspy\n",
    "from obspy import read\n",
    "\n",
    "\n",
    "\n",
    "#5th station - Central station\n",
    "#Rotational components of 1st station in x, y and z direction\n",
    "st5_curlx = read('/home/ashah/Desktop/3MayOutput/S5.curlx')\n",
    "st5_curly = read('/home/ashah/Desktop/3MayOutput/S5.curly')\n",
    "st5_curlz = read('/home/ashah/Desktop/3MayOutput/S5.curlz')\n",
    "\n",
    "#Translation components of displacement in x, y and z direction\n",
    "st5_x = read('/home/ashah/Desktop/3MayOutput/S5.x')\n",
    "st5_y = read('/home/ashah/Desktop/3MayOutput/S5.y')\n",
    "st5_z = read('/home/ashah/Desktop/3MayOutput/S5.z')\n",
    "\n",
    "#Translation components of velocity in x, y and z direction\n",
    "st5_xv = read('/home/ashah/Desktop/3MayOutput/S5.xv')\n",
    "st5_yv = read('/home/ashah/Desktop/3MayOutput/S5.yv')\n",
    "st5_zv = read('/home/ashah/Desktop/3MayOutput/S5.zv')\n",
    "\n",
    "\n",
    "#2th station - North station\n",
    "#Rotational components of 1st station in x, y and z direction\n",
    "st2_curlx = read('/home/ashah/Desktop/3MayOutput/S2.curlx')\n",
    "st2_curly = read('/home/ashah/Desktop/3MayOutput/S2.curly')\n",
    "st2_curlz = read('/home/ashah/Desktop/3MayOutput/S2.curlz')\n",
    "\n",
    "#Translation components of displacement in x, y and z direction\n",
    "st2_x = read('/home/ashah/Desktop/3MayOutput/S2.x')\n",
    "st2_y = read('/home/ashah/Desktop/3MayOutput/S2.y')\n",
    "st2_z = read('/home/ashah/Desktop/3MayOutput/S2.z')\n",
    "\n",
    "#Translation components of velocity in x, y and z direction\n",
    "st2_xv = read('/home/ashah/Desktop/3MayOutput/S2.xv')\n",
    "st2_yv = read('/home/ashah/Desktop/3MayOutput/S2.yv')\n",
    "st2_zv = read('/home/ashah/Desktop/3MayOutput/S2.zv')\n",
    "\n",
    "\n",
    "#6th station - East station\n",
    "#Rotational components of 1st station in x, y and z direction\n",
    "st6_curlx = read('/home/ashah/Desktop/3MayOutput/S6.curlx')\n",
    "st6_curly = read('/home/ashah/Desktop/3MayOutput/S6.curly')\n",
    "st6_curlz = read('/home/ashah/Desktop/3MayOutput/S6.curlz')\n",
    "\n",
    "#Translation components of displacement in x, y and z direction\n",
    "st6_x = read('/home/ashah/Desktop/3MayOutput/S6.x')\n",
    "st6_y = read('/home/ashah/Desktop/3MayOutput/S6.y')\n",
    "st6_z = read('/home/ashah/Desktop/3MayOutput/S6.z')\n",
    "\n",
    "#Translation components of velocity in x, y and z direction\n",
    "st6_xv = read('/home/ashah/Desktop/3MayOutput/S6.xv')\n",
    "st6_yv = read('/home/ashah/Desktop/3MayOutput/S6.yv')\n",
    "st6_zv = read('/home/ashah/Desktop/3MayOutput/S6.zv')\n",
    "\n",
    "\n",
    "\n",
    "#8th station - South station\n",
    "#Rotational components of 1st station in x, y and z direction\n",
    "st8_curlx = read('/home/ashah/Desktop/3MayOutput/S8.curlx')\n",
    "st8_curly = read('/home/ashah/Desktop/3MayOutput/S8.curly')\n",
    "st8_curlz = read('/home/ashah/Desktop/3MayOutput/S8.curlz')\n",
    "\n",
    "#Translation components of displacement in x, y and z direction\n",
    "st8_x = read('/home/ashah/Desktop/3MayOutput/S8.x')\n",
    "st8_y = read('/home/ashah/Desktop/3MayOutput/S8.y')\n",
    "st8_z = read('/home/ashah/Desktop/3MayOutput/S8.z')\n",
    "\n",
    "#Translation components of velocity in x, y and z direction\n",
    "st8_xv = read('/home/ashah/Desktop/3MayOutput/S8.xv')\n",
    "st8_yv = read('/home/ashah/Desktop/3MayOutput/S8.yv')\n",
    "st8_zv = read('/home/ashah/Desktop/3MayOutput/S8.zv')\n",
    "\n",
    "\n",
    "\n",
    "#4th station - West station\n",
    "#Rotational components of 1st station in x, y and z direction\n",
    "st4_curlx = read('/home/ashah/Desktop/3MayOutput/S4.curlx')\n",
    "st4_curly = read('/home/ashah/Desktop/3MayOutput/S4.curly')\n",
    "st4_curlz = read('/home/ashah/Desktop/3MayOutput/S4.curlz')\n",
    "\n",
    "#Translation components of displacement in x, y and z direction\n",
    "st4_x = read('/home/ashah/Desktop/3MayOutput/S4.x')\n",
    "st4_y = read('/home/ashah/Desktop/3MayOutput/S4.y')\n",
    "st4_z = read('/home/ashah/Desktop/3MayOutput/S4.z')\n",
    "\n",
    "#Translation components of velocity in x, y and z direction\n",
    "st4_xv = read('/home/ashah/Desktop/3MayOutput/S4.xv')\n",
    "st4_yv = read('/home/ashah/Desktop/3MayOutput/S4.yv')\n",
    "st4_zv = read('/home/ashah/Desktop/3MayOutput/S4.zv')\n",
    "\n",
    "\n",
    "#1th station - North West station\n",
    "#Rotational components of 1st station in x, y and z direction\n",
    "st1_curlx = read('/home/ashah/Desktop/3MayOutput/S1.curlx')\n",
    "st1_curly = read('/home/ashah/Desktop/3MayOutput/S1.curly')\n",
    "st1_curlz = read('/home/ashah/Desktop/3MayOutput/S1.curlz')\n",
    "\n",
    "#Translation components of displacement in x, y and z direction\n",
    "st1_x = read('/home/ashah/Desktop/3MayOutput/S1.x')\n",
    "st1_y = read('/home/ashah/Desktop/3MayOutput/S1.y')\n",
    "st1_z = read('/home/ashah/Desktop/3MayOutput/S1.z')\n",
    "\n",
    "#Translation components of velocity in x, y and z direction\n",
    "st1_xv = read('/home/ashah/Desktop/3MayOutput/S1.xv')\n",
    "st1_yv = read('/home/ashah/Desktop/3MayOutput/S1.yv')\n",
    "st1_zv = read('/home/ashah/Desktop/3MayOutput/S1.zv')\n",
    "\n",
    "\n",
    "#3th station - North East station\n",
    "#Rotational components of 1st station in x, y and z direction\n",
    "st3_curlx = read('/home/ashah/Desktop/3MayOutput/S3.curlx')\n",
    "st3_curly = read('/home/ashah/Desktop/3MayOutput/S3.curly')\n",
    "st3_curlz = read('/home/ashah/Desktop/3MayOutput/S3.curlz')\n",
    "\n",
    "#Translation components of displacement in x, y and z direction\n",
    "st3_x = read('/home/ashah/Desktop/3MayOutput/S3.x')\n",
    "st3_y = read('/home/ashah/Desktop/3MayOutput/S3.y')\n",
    "st3_z = read('/home/ashah/Desktop/3MayOutput/S3.z')\n",
    "\n",
    "#Translation components of velocity in x, y and z direction\n",
    "st3_xv = read('/home/ashah/Desktop/3MayOutput/S3.xv')\n",
    "st3_yv = read('/home/ashah/Desktop/3MayOutput/S3.yv')\n",
    "st3_zv = read('/home/ashah/Desktop/3MayOutput/S3.zv')\n",
    "\n",
    "\n",
    "#9th station - South East station\n",
    "#Rotational components of 1st station in x, y and z direction\n",
    "st9_curlx = read('/home/ashah/Desktop/3MayOutput/S9.curlx')\n",
    "st9_curly = read('/home/ashah/Desktop/3MayOutput/S9.curly')\n",
    "st9_curlz = read('/home/ashah/Desktop/3MayOutput/S9.curlz')\n",
    "\n",
    "#Translation components of displacement in x, y and z direction\n",
    "st9_x = read('/home/ashah/Desktop/3MayOutput/S9.x')\n",
    "st9_y = read('/home/ashah/Desktop/3MayOutput/S9.y')\n",
    "st9_z = read('/home/ashah/Desktop/3MayOutput/S9.z')\n",
    "\n",
    "#Translation components of velocity in x, y and z direction\n",
    "st9_xv = read('/home/ashah/Desktop/3MayOutput/S9.xv')\n",
    "st9_yv = read('/home/ashah/Desktop/3MayOutput/S9.yv')\n",
    "st9_zv = read('/home/ashah/Desktop/3MayOutput/S9.zv')\n",
    "\n",
    "\n",
    "\n",
    "#7th station - South West station\n",
    "#Rotational components of 1st station in x, y and z direction\n",
    "st7_curlx = read('/home/ashah/Desktop/3MayOutput/S7.curlx')\n",
    "st7_curly = read('/home/ashah/Desktop/3MayOutput/S7.curly')\n",
    "st7_curlz = read('/home/ashah/Desktop/3MayOutput/S7.curlz')\n",
    "\n",
    "#Translation components of displacement in x, y and z direction\n",
    "st7_x = read('/home/ashah/Desktop/3MayOutput/S7.x')\n",
    "st7_y = read('/home/ashah/Desktop/3MayOutput/S7.y')\n",
    "st7_z = read('/home/ashah/Desktop/3MayOutput/S7.z')\n",
    "\n",
    "#Translation components of velocity in x, y and z direction\n",
    "st7_xv = read('/home/ashah/Desktop/3MayOutput/S7.xv')\n",
    "st7_yv = read('/home/ashah/Desktop/3MayOutput/S7.yv')\n",
    "st7_zv = read('/home/ashah/Desktop/3MayOutput/S7.zv')\n",
    "\n",
    "\n"
   ]
  },
  {
   "cell_type": "code",
   "execution_count": 2,
   "metadata": {
    "hide_input": false
   },
   "outputs": [
    {
     "name": "stdout",
     "output_type": "stream",
     "text": [
      "Theoretical backazimuth [deg]:  206.5650710145647\n"
     ]
    }
   ],
   "source": [
    "#Back Azimuth\n",
    "\n",
    "from obspy.geodetics import gps2dist_azimuth\n",
    "import obspy.signal.util as su\n",
    "\n",
    "# Source position in geographic coordinate\n",
    "lat_s = 0\n",
    "long_s = 0\n",
    "\n",
    "# Define the receiver position in Cartesian coordinate and convert it\n",
    "#to geographic coordinate\n",
    "dist_x = 0.5      # in km, the distance between receiver and source in x\n",
    "#direction\n",
    "dist_y = 1        # in km, the distance between receiver and source in y\n",
    "#direction\n",
    "long_r, lat_r = su.util_lon_lat(long_s,lat_s, dist_x, dist_y)\n",
    "\n",
    "# Backazimuth\n",
    "baz = gps2dist_azimuth(lat_s, long_s, lat_r, long_r)\n",
    "print('Theoretical backazimuth [deg]: ', baz[2])\n",
    "\n",
    "\n",
    "\n",
    "\n",
    "\n"
   ]
  },
  {
   "cell_type": "code",
   "execution_count": 3,
   "metadata": {
    "hide_input": false
   },
   "outputs": [],
   "source": [
    "# Rotating axis\n",
    "\n",
    "st5_xv_copy = st5_xv.copy()\n",
    "tr_xv = st5_xv_copy[0]\n",
    "tr_xv.stats.channel = \"XE\"\n",
    "st5_yv_copy = st5_yv.copy()\n",
    "tr_yv = st5_yv_copy[0]\n",
    "tr_yv.stats.channel = \"YN\"\n",
    "st5_zv_copy = st5_zv.copy()\n",
    "tr_zv = st5_zv_copy[0]\n",
    "tr_zv.stats.channel = \"ZZ\"\n",
    "st_5 = obspy.core.Stream([tr_xv, tr_yv, tr_zv])\n",
    "st_5     = st_5.rotate(method='NE->RT',back_azimuth=baz[2])\n",
    "\n",
    "\n",
    "st5_curlx_copy = st5_curlx.copy()\n",
    "rot_x = st5_curlx_copy[0]\n",
    "rot_x.stats.channel = \"XE\"\n",
    "st5_curly_copy = st5_curly.copy()\n",
    "rot_y = st5_curly_copy[0]\n",
    "rot_y.stats.channel = \"YN\"\n",
    "st5_curlz_copy = st5_curlz.copy()\n",
    "rot_z = st5_curlz_copy[0]\n",
    "rot_z.stats.channel = \"ZZ\"\n",
    "st_5_rot   = obspy.core.Stream([rot_x, rot_y, rot_z])\n",
    "st_5_rot   = st_5_rot.rotate(method='NE->RT',back_azimuth=baz[2])\n",
    "\n",
    "\n"
   ]
  },
  {
   "cell_type": "markdown",
   "metadata": {},
   "source": [
    "## Velocity Components X Y Z ##"
   ]
  },
  {
   "cell_type": "code",
   "execution_count": 4,
   "metadata": {
    "code_folding": []
   },
   "outputs": [
    {
     "name": "stdout",
     "output_type": "stream",
     "text": [
      "0.7853981633974483\n"
     ]
    }
   ],
   "source": [
    "# Manual Rotation\n",
    "# Velocity\n",
    "import math\n",
    "from math import pi \n",
    "#Manual Rotation\n",
    "\n",
    "Vel_X = np.array(st5_xv[0].data)\n",
    "Vel_Y = np.array(st5_yv[0].data)\n",
    "Vel_Z = np.array(st5_zv[0].data)\n",
    "\n",
    "Rot_X = np.array(st5_curlx[0].data)\n",
    "Rot_Y = np.array(st5_curly[0].data)\n",
    "Rot_Z = np.array(st5_curlz[0].data)\n",
    "\n",
    "Data_Vel = [Vel_X, Vel_Y, Vel_Z]\n",
    "Data_Rot = [Rot_X, Rot_Y, Rot_Z]\n",
    "\n",
    "\n",
    "\n",
    "angle = (math.atan2(2000 - 1000, 2000 - 1000) * 180 /math.pi )  * math.pi/180;\n",
    "print(angle)\n",
    "\n",
    "\n",
    "Rot_Mat = [[math.cos(angle), -math.sin(angle), 0], \n",
    "          [math.sin(angle), math.cos(angle), 0],\n",
    "          [0, 0, 1]]\n",
    "\n",
    "Transformed_Components_Velocity = np.dot(Rot_Mat,Data_Vel)\n",
    "Transformed_Components_Rotation = np.dot(Rot_Mat,Data_Rot)\n",
    "\n",
    "\n",
    "\n",
    "\n",
    "\n"
   ]
  },
  {
   "cell_type": "code",
   "execution_count": 5,
   "metadata": {
    "hide_input": false
   },
   "outputs": [
    {
     "data": {
      "text/plain": [
       "<matplotlib.legend.Legend at 0x7f731cd6ac50>"
      ]
     },
     "execution_count": 5,
     "metadata": {},
     "output_type": "execute_result"
    },
    {
     "data": {
      "image/png": "[encoded data removed]",
      "text/plain": [
       "<Figure size 1008x288 with 1 Axes>"
      ]
     },
     "metadata": {
      "needs_background": "light"
     },
     "output_type": "display_data"
    }
   ],
   "source": [
    "#Plotting figures after transforming axis  - Velocity Components\n",
    "fig = plt.figure(figsize=(14,4))\n",
    "plt.plot(st5_xv[0].times(), st5_xv[0].data, color='r' , label='$V_{x}$')\n",
    "plt.plot(st5_yv[0].times(), st5_yv[0].data, color='g' , label='$V_{y}$')\n",
    "plt.plot(st5_zv[0].times(), st5_zv[0].data, color='b' , label='$V_{z}$')\n",
    "\n",
    "plt.title('Velocity components')\n",
    "plt.legend()"
   ]
  },
  {
   "cell_type": "markdown",
   "metadata": {
    "hide_input": false
   },
   "source": [
    "## Velocity Components R T Z##"
   ]
  },
  {
   "cell_type": "code",
   "execution_count": 6,
   "metadata": {
    "hide_input": true
   },
   "outputs": [
    {
     "data": {
      "text/plain": [
       "<matplotlib.legend.Legend at 0x7f731ccada20>"
      ]
     },
     "execution_count": 6,
     "metadata": {},
     "output_type": "execute_result"
    },
    {
     "data": {
      "image/png": "[encoded data removed]",
      "text/plain": [
       "<Figure size 1008x288 with 1 Axes>"
      ]
     },
     "metadata": {
      "needs_background": "light"
     },
     "output_type": "display_data"
    }
   ],
   "source": [
    "#Plotting figures after transforming axis  - Velocity Components\n",
    "fig = plt.figure(figsize=(14,4))\n",
    "plt.plot(st_5[0].times(), Transformed_Components_Velocity[0,:], label='$V_{t}$')\n",
    "plt.plot(st_5[0].times(), Transformed_Components_Velocity[1,:], label='$V_{r}$')\n",
    "plt.plot(st_5[0].times(), Transformed_Components_Velocity[2,:], label='$V_{z}$')\n",
    "plt.title('Velocity Components R T Z')\n",
    "plt.legend()\n",
    "\n",
    "\n"
   ]
  },
  {
   "cell_type": "markdown",
   "metadata": {
    "hide_input": false
   },
   "source": [
    "## Rotational Components X Y Z##"
   ]
  },
  {
   "cell_type": "code",
   "execution_count": 7,
   "metadata": {
    "hide_input": false
   },
   "outputs": [
    {
     "data": {
      "text/plain": [
       "<matplotlib.legend.Legend at 0x7f731cc8e2b0>"
      ]
     },
     "execution_count": 7,
     "metadata": {},
     "output_type": "execute_result"
    },
    {
     "data": {
      "image/png": "[encoded data removed]",
      "text/plain": [
       "<Figure size 1008x288 with 1 Axes>"
      ]
     },
     "metadata": {
      "needs_background": "light"
     },
     "output_type": "display_data"
    }
   ],
   "source": [
    "#Plotting figures after transforming axis  - Rotational Components\n",
    "fig = plt.figure(figsize=(14,4))\n",
    "plt.plot(st5_curlx[0].times(), st5_curlx[0].data, label='$R_{x}$')\n",
    "plt.plot(st5_curly[0].times(), st5_curly[0].data, label='$R_{y}$')\n",
    "plt.plot(st5_curlz[0].times(), st5_curlz[0].data, label='$R_{z}$')\n",
    "plt.legend()\n",
    "\n"
   ]
  },
  {
   "cell_type": "markdown",
   "metadata": {},
   "source": [
    "## Rotational Components R T Z ##"
   ]
  },
  {
   "cell_type": "code",
   "execution_count": 8,
   "metadata": {
    "code_folding": [],
    "hide_input": true
   },
   "outputs": [
    {
     "data": {
      "text/plain": [
       "<matplotlib.legend.Legend at 0x7f731cb67978>"
      ]
     },
     "execution_count": 8,
     "metadata": {},
     "output_type": "execute_result"
    },
    {
     "data": {
      "image/png": "[encoded data removed]",
      "text/plain": [
       "<Figure size 1008x288 with 1 Axes>"
      ]
     },
     "metadata": {
      "needs_background": "light"
     },
     "output_type": "display_data"
    }
   ],
   "source": [
    "#Plotting figures after transforming axis  - Rotational Components\n",
    "fig = plt.figure(figsize=(14,4))\n",
    "plt.plot(st5_curlx[0].times(), Transformed_Components_Rotation[0,:], label='$R_{t}$')\n",
    "plt.plot(st5_curly[0].times(), Transformed_Components_Rotation[1,:], label='$R_{r}$')\n",
    "plt.plot(st5_curlz[0].times(), Transformed_Components_Rotation[2,:], label='$R_{z}$')\n",
    "plt.title('Rotational Components R T Z')\n",
    "plt.legend()"
   ]
  },
  {
   "cell_type": "code",
   "execution_count": 9,
   "metadata": {
    "hide_input": false
   },
   "outputs": [],
   "source": [
    "#multiplying rotational components with a factor\n",
    "#st5_curlx[0].data = st5_curlx[0].data * -2000\n",
    "#st5_curly[0].data = st5_curly[0].data * -7500\n",
    "\n",
    "#st5_curlz[0].data = st5_curlz[0].data * -4000\n",
    "\n"
   ]
  },
  {
   "cell_type": "code",
   "execution_count": 10,
   "metadata": {
    "code_folding": [
     0
    ],
    "hide_input": false
   },
   "outputs": [],
   "source": [
    "#initialization\n",
    "import matplotlib.pyplot as plt\n",
    "import numpy as np\n",
    "import os\n",
    "import obspy\n",
    "from obspy import Trace\n",
    "import instaseis\n",
    "import random\n",
    "from obspy.geodetics import locations2degrees, gps2dist_azimuth\n",
    "import obspy.signal.array_analysis as aa\n",
    "import obspy.signal.util as su\n",
    "from obspy import read\n",
    "from obspy.taup import TauPyModel\n",
    "\n",
    "\n",
    "\n"
   ]
  },
  {
   "cell_type": "code",
   "execution_count": 11,
   "metadata": {
    "code_folding": [
     0
    ],
    "hide_input": false
   },
   "outputs": [],
   "source": [
    "#Opening Instaseis database\n",
    "# Data base\n",
    "db = instaseis.open_db(\"syngine://prem_a_10s\")\n",
    "# Centre station at Wettzell\n",
    "latC= 0# Latitude\n",
    "longC = 0# Longitude\n",
    "htC= 0 # Altitude\n",
    "Station = (latC, longC)\n",
    "Centre_rec_5 = instaseis.Receiver(latitude=latC, longitude=longC, network=\"AB\", station=\"S5\")\n",
    "\n",
    "# Spatial interval of an array\n",
    "Dist = 100.0 # in meters\n",
    "# Radius in meters of the surrounding stations around the central station\n",
    "# Note: \"aperture of array: max 1/4 of shortest wavelength\"\n",
    "\n"
   ]
  },
  {
   "cell_type": "code",
   "execution_count": 12,
   "metadata": {
    "code_folding": [
     0
    ],
    "hide_input": false
   },
   "outputs": [],
   "source": [
    "#Longitudes and latitudes of stations\n",
    "# East station\n",
    "longE, latE = su.util_lon_lat(longC,latC, Dist*1E-3, 0.0)\n",
    "htE= htC\n",
    "East_rec_5  = instaseis.Receiver(latitude=latE, longitude=longE, network=\"AB\", station=\"S6\")\n",
    "# West station\n",
    "longW, latW = su.util_lon_lat(longC, latC, -Dist*1E-3, 0.0)\n",
    "htW= htC\n",
    "West_rec_4  = instaseis.Receiver(latitude=latW, longitude=longW, network=\"AB\", station=\"S4\")\n",
    "# North Station\n",
    "longN, latN = su.util_lon_lat(longC, latC, 0.0, Dist*1E-3)\n",
    "htN= htC\n",
    "North_rec_2= instaseis.Receiver(latitude=latN, longitude=longN, network=\"AB\", station=\"S2\")\n",
    "# South Station\n",
    "longS, latS = su.util_lon_lat(longC, latC, 0.0, -Dist*1E-3)\n",
    "htS= htC\n",
    "South_rec_8= instaseis.Receiver(latitude=latS, longitude=longS, network=\"AB\", station=\"S8\")\n",
    "# North West Station\n",
    "longNW, latNW = su.util_lon_lat(longC, latC, -Dist*1E-3, Dist*1E-3)\n",
    "htNW= htC\n",
    "South_rec_1= instaseis.Receiver(latitude=latNW, longitude=longNW, network=\"AB\", station=\"S1\")\n",
    "# North East Station\n",
    "longNE, latNE = su.util_lon_lat(longC, latC, Dist*1E-3, Dist*1E-3)\n",
    "htNE= htC\n",
    "South_rec_1= instaseis.Receiver(latitude=latNE, longitude=longNE, network=\"AB\", station=\"S3\")\n",
    "# South East Station\n",
    "longSE, latSE = su.util_lon_lat(longC, latC,  Dist*1E-3, -Dist*1E-3)\n",
    "htSE= htC\n",
    "South_rec_9= instaseis.Receiver(latitude=latSE, longitude=longSE, network=\"AB\", station=\"S9\")\n",
    "# South West Station\n",
    "longSW, latSW = su.util_lon_lat(longC, latC,  -Dist*1E-3, -Dist*1E-3)\n",
    "htSW= htC\n",
    "South_rec_1= instaseis.Receiver(latitude=latSW, longitude=longSW, network=\"AB\", station=\"S7\")\n",
    "\n"
   ]
  },
  {
   "cell_type": "code",
   "execution_count": 13,
   "metadata": {
    "hide_input": false
   },
   "outputs": [],
   "source": [
    "#final coordinates in km\n",
    "StCx, StCy = su.util_geo_km(longC, latC, longC, latC)\n",
    "StNx, StNy = su.util_geo_km(longC, latC, longN, latN)\n",
    "StSx, StSy = su.util_geo_km(longC, latC, longS, latS)\n",
    "StEx, StEy = su.util_geo_km(longC, latC, longE, latE)\n",
    "StWx, StWy = su.util_geo_km(longC, latC, longW, latW)\n",
    "StNEx, StNEy = su.util_geo_km(longC, latC, longNE, latNE)\n",
    "StSEx, StSEy = su.util_geo_km(longC, latC, longSE, latSE)\n",
    "StSWx, StSWy = su.util_geo_km(longC, latC, longSW, latSW)\n",
    "StNWx, StNWy = su.util_geo_km(longC, latC, longNW, latNW)\n",
    "j = 1E3\n",
    "\n",
    "# Assemble coords for all stations\n",
    "coords = (np.array([[StCx,StCy,htC],[StEx, StEy,htE],[StWx,StWy,htW],[StNx,StNy,htN],[StSx, StSy,htS], \n",
    "                    [StNEx, StNEy,htNE], [StSEx, StSEy,htSE], [StSWx, StSWy,htSW], [StNWx, StNWy,htNW]])) * j\n",
    "# ]\n",
    "\n"
   ]
  },
  {
   "cell_type": "code",
   "execution_count": 14,
   "metadata": {
    "code_folding": [
     0
    ],
    "hide_input": false
   },
   "outputs": [],
   "source": [
    "#Converting to mseed\n",
    "#center\n",
    "st_5_instaseis = obspy.core.Stream([st5_curlx[0] , st5_x[0], st5_xv[0], st5_curly[0] , st5_y[0], st5_yv[0], st5_curlz[0] , st5_z[0], st5_zv[0]])\n",
    "st_5_instaseis.write(\"st_5_instaseis.mseed\", format='MSEED')\n",
    "\n",
    "#north\n",
    "st_2_instaseis = obspy.core.Stream([st2_curlx[0] , st2_x[0], st2_xv[0], st2_curly[0] , st2_y[0], st2_yv[0], st2_curlz[0] , st2_z[0], st2_zv[0]])\n",
    "st_2_instaseis.write(\"st_2_instaseis.mseed\", format='MSEED')\n",
    "\n",
    "#east\n",
    "st_6_instaseis = obspy.core.Stream([st6_curlx[0] , st6_x[0], st6_xv[0], st6_curly[0] , st6_y[0], st6_yv[0], st6_curlz[0] , st6_z[0], st6_zv[0]])\n",
    "st_6_instaseis.write(\"st_6_instaseis.mseed\", format='MSEED')\n",
    "\n",
    "#south\n",
    "st_8_instaseis = obspy.core.Stream([st8_curlx[0] , st8_x[0], st8_xv[0], st8_curly[0] , st8_y[0], st8_yv[0], st8_curlz[0] , st8_z[0], st8_zv[0]])\n",
    "st_8_instaseis.write(\"st_8_instaseis.mseed\", format='MSEED')\n",
    "\n",
    "#west\n",
    "st_4_instaseis = obspy.core.Stream([st4_curlx[0] , st4_x[0], st4_xv[0], st4_curly[0] , st4_y[0], st4_yv[0], st4_curlz[0] , st4_z[0], st4_zv[0]])\n",
    "st_4_instaseis.write(\"st_4_instaseis.mseed\", format='MSEED')\n",
    "\n",
    "\n",
    "#north west\n",
    "st_1_instaseis = obspy.core.Stream([st1_curlx[0] , st1_x[0], st1_xv[0], st1_curly[0] , st1_y[0], st1_yv[0], st1_curlz[0] , st1_z[0], st1_zv[0]])\n",
    "st_1_instaseis.write(\"st_1_instaseis.mseed\", format='MSEED')\n",
    "\n",
    "\n",
    "#north east\n",
    "st_3_instaseis = obspy.core.Stream([st3_curlx[0] , st3_x[0], st3_xv[0], st3_curly[0] , st3_y[0], st3_yv[0], st3_curlz[0] , st3_z[0], st3_zv[0]])\n",
    "st_3_instaseis.write(\"st_3_instaseis.mseed\", format='MSEED')\n",
    "\n",
    "\n",
    "#south east\n",
    "st_9_instaseis = obspy.core.Stream([st9_curlx[0] , st9_x[0], st9_xv[0], st9_curly[0] , st9_y[0], st9_yv[0], st9_curlz[0] , st9_z[0], st9_zv[0]])\n",
    "st_9_instaseis.write(\"st_9_instaseis.mseed\", format='MSEED')\n",
    "\n",
    "\n",
    "#south west\n",
    "st_7_instaseis = obspy.core.Stream([st7_curlx[0] , st7_x[0], st7_xv[0], st7_curly[0] , st7_y[0], st7_yv[0], st7_curlz[0] , st7_z[0], st7_zv[0]])\n",
    "st_7_instaseis.write(\"st_7_instaseis.mseed\", format='MSEED')\n",
    "\n",
    "\n"
   ]
  },
  {
   "cell_type": "code",
   "execution_count": 15,
   "metadata": {
    "code_folding": [
     0
    ],
    "hide_input": false
   },
   "outputs": [],
   "source": [
    "#reading mseed files\n",
    "\n",
    "seisC = read(\"st_5_instaseis.mseed\") #center\n",
    "seisN = read(\"st_2_instaseis.mseed\") #north\n",
    "seisE = read(\"st_6_instaseis.mseed\") #east\n",
    "seisS = read(\"st_8_instaseis.mseed\") #south\n",
    "seisW = read(\"st_4_instaseis.mseed\") #west\n",
    "seisNW = read(\"st_1_instaseis.mseed\") #north west\n",
    "seisNE = read(\"st_3_instaseis.mseed\") #north east\n",
    "seisSE = read(\"st_9_instaseis.mseed\") #south east\n",
    "seisSW = read(\"st_7_instaseis.mseed\") #south west\n",
    "\n",
    "\n",
    "num_pts = st_5_instaseis[0].stats.npts\n",
    "dataE = np.zeros((num_pts, 9))\n",
    "dataN = np.zeros((num_pts, 9))\n",
    "dataZ = np.zeros((num_pts, 9))\n",
    "\n",
    "subarray = np.array([0,1,2,3,4,5,6,7,8])\n",
    "\n"
   ]
  },
  {
   "cell_type": "code",
   "execution_count": 16,
   "metadata": {
    "code_folding": [
     0
    ],
    "hide_input": false
   },
   "outputs": [],
   "source": [
    "#Data of seismograms assigned to matricesata \n",
    "\n",
    "\n",
    "dataZ[:,0] = seisC.select(channel=\"Z\")[0].data\n",
    "dataZ[:,1] = seisE.select(channel=\"Z\")[0].data\n",
    "dataZ[:,2] = seisW.select(channel=\"Z\")[0].data\n",
    "dataZ[:,3] = seisN.select(channel=\"Z\")[0].data\n",
    "dataZ[:,4] = seisS.select(channel=\"Z\")[0].data\n",
    "dataZ[:,5] = seisNW.select(channel=\"Z\")[0].data\n",
    "dataZ[:,6] = seisNE.select(channel=\"Z\")[0].data\n",
    "dataZ[:,7] = seisSE.select(channel=\"Z\")[0].data\n",
    "dataZ[:,8] = seisSW.select(channel=\"Z\")[0].data\n",
    "\n",
    "\n",
    "\n",
    "dataN[:,0] = seisC.select(channel=\"Y\")[0].data\n",
    "dataN[:,1] = seisE.select(channel=\"Y\")[0].data\n",
    "dataN[:,2] = seisW.select(channel=\"Y\")[0].data\n",
    "dataN[:,3] = seisN.select(channel=\"Y\")[0].data\n",
    "dataN[:,4] = seisS.select(channel=\"Y\")[0].data\n",
    "dataN[:,5] = seisNW.select(channel=\"Y\")[0].data\n",
    "dataN[:,6] = seisNE.select(channel=\"Y\")[0].data\n",
    "dataN[:,7] = seisSE.select(channel=\"Y\")[0].data\n",
    "dataN[:,8] = seisSW.select(channel=\"Y\")[0].data\n",
    "\n",
    "dataE[:,0] = seisC.select(channel=\"X\")[0].data\n",
    "dataE[:,1] = seisE.select(channel=\"Y\")[0].data\n",
    "dataE[:,2] = seisW.select(channel=\"Y\")[0].data\n",
    "dataE[:,3] = seisN.select(channel=\"Y\")[0].data\n",
    "dataE[:,4] = seisS.select(channel=\"Y\")[0].data\n",
    "dataE[:,5] = seisNW.select(channel=\"Y\")[0].data\n",
    "dataE[:,6] = seisNE.select(channel=\"Y\")[0].data\n",
    "dataE[:,7] = seisSE.select(channel=\"Y\")[0].data\n",
    "dataE[:,8] = seisSW.select(channel=\"Y\")[0].data\n",
    "\n"
   ]
  },
  {
   "cell_type": "code",
   "execution_count": 17,
   "metadata": {
    "code_folding": [
     0
    ],
    "hide_input": false
   },
   "outputs": [
    {
     "name": "stderr",
     "output_type": "stream",
     "text": [
      "/import/freenas-m-04-students/anokhi/anaconda3/lib/python3.6/site-packages/obspy/signal/array_analysis.py:494: RuntimeWarning: invalid value encountered in double_scalars\n",
      "  ts_m[itime] = misfit_len / sumlen\n"
     ]
    },
    {
     "name": "stdout",
     "output_type": "stream",
     "text": [
      "Rotational rate: ready!\n"
     ]
    },
    {
     "name": "stderr",
     "output_type": "stream",
     "text": [
      "/import/freenas-m-04-students/anokhi/anaconda3/lib/python3.6/site-packages/obspy/io/mseed/core.py:774: UserWarning: The encoding specified in trace.stats.mseed.encoding does not match the dtype of the data.\n",
      "A suitable encoding will be chosen.\n",
      "  warnings.warn(msg, UserWarning)\n",
      "/import/freenas-m-04-students/anokhi/anaconda3/lib/python3.6/site-packages/obspy/io/mseed/core.py:809: UserWarning: File will be written with more than one different encodings.\n",
      "This might have a negative influence on the compatibility with other programs.\n",
      "  warnings.warn(msg % 'encodings')\n"
     ]
    }
   ],
   "source": [
    "# Speeds according to the database prem_ani_2s\n",
    "vp = 5.8 #km/s\n",
    "vs = 3.2 #km/s\n",
    "# Noise\n",
    "noise =  1e-5\n",
    "# Calculate array derived rotation (Spudich et al. 1995)\n",
    "rot = aa.array_rotation_strain(subarray, dataE, dataN, dataZ, vp, vs,\n",
    "np.array(coords), noise)\n",
    "\n",
    "# Assemble rotation\n",
    "seisrotv = seisC.copy()\n",
    "seisrotv[0].stats.channel = \"MYZ\"\n",
    "seisrotv[0].data = rot[\"ts_w3\"]\n",
    "seisrotv[1].stats.channel = \"MYE\"\n",
    "seisrotv[1].data = rot[\"ts_w1\"]\n",
    "seisrotv[2].stats.channel = \"MYN\"\n",
    "seisrotv[2].data = rot[\"ts_w2\"]\n",
    "\n",
    "seisrotv.write(\"seisrotv.mseed\", format=\"mseed\")\n",
    "print(\"Rotational rate: ready!\")"
   ]
  },
  {
   "cell_type": "markdown",
   "metadata": {
    "hide_input": true
   },
   "source": [
    "## Array Derived Rotations X Y Z##"
   ]
  },
  {
   "cell_type": "code",
   "execution_count": 18,
   "metadata": {
    "code_folding": [
     0
    ],
    "hide_input": false
   },
   "outputs": [
    {
     "data": {
      "text/plain": [
       "<matplotlib.legend.Legend at 0x7f73190375c0>"
      ]
     },
     "execution_count": 18,
     "metadata": {},
     "output_type": "execute_result"
    },
    {
     "data": {
      "image/png": "[encoded data removed]",
      "text/plain": [
       "<Figure size 1008x288 with 1 Axes>"
      ]
     },
     "metadata": {
      "needs_background": "light"
     },
     "output_type": "display_data"
    }
   ],
   "source": [
    "#plotting array Derived Rotations\n",
    "fig = plt.figure(figsize=(14,4))\n",
    "plt.plot(seisrotv[2].times(), seisrotv[2].data, label='$AR_{x}$')\n",
    "plt.plot(seisrotv[1].times(), seisrotv[1].data, label='$AR_{y}$')\n",
    "plt.plot(seisrotv[0].times(), seisrotv[0].data, label='$AR_{z}$')\n",
    "plt.legend()"
   ]
  },
  {
   "cell_type": "code",
   "execution_count": null,
   "metadata": {
    "hide_input": true
   },
   "outputs": [],
   "source": []
  }
 ],
 "metadata": {
  "celltoolbar": "Edit Metadata",
  "hide_input": true,
  "kernelspec": {
   "display_name": "Python 3",
   "language": "python",
   "name": "python3"
  },
  "language_info": {
   "codemirror_mode": {
    "name": "ipython",
    "version": 3
   },
   "file_extension": ".py",
   "mimetype": "text/x-python",
   "name": "python",
   "nbconvert_exporter": "python",
   "pygments_lexer": "ipython3",
   "version": "3.6.8"
  }
 },
 "nbformat": 4,
 "nbformat_minor": 2
}
